{
 "cells": [
  {
   "attachments": {},
   "cell_type": "markdown",
   "metadata": {},
   "source": [
    "# Getting Minimum Polynomials for BCH Codes"
   ]
  },
  {
   "cell_type": "code",
   "execution_count": 6,
   "metadata": {},
   "outputs": [
    {
     "data": {
      "text/plain": [
       "(𝔽₂₅₆, α)"
      ]
     },
     "metadata": {},
     "output_type": "display_data"
    }
   ],
   "source": [
    "cd(@__DIR__) # REPLのdir移動\n",
    "include(\"../GaloisFieldUtils.jl\")\n",
    "F256, α = GaloisField(F2, Polynomial(getconwaypolynomialofdegree(8), \"α\")) # F256 = x^8+x^4+x^3+x^2+1\n"
   ]
  },
  {
   "cell_type": "code",
   "execution_count": 7,
   "metadata": {},
   "outputs": [
    {
     "name": "stdout",
     "output_type": "stream",
     "text": [
      "M1 = Polynomial(1 + 1*x^2 + 1*x^3 + 1*x^4 + 1*x^8)\n",
      "M3 = Polynomial(1 + 1*x + 1*x^2 + 1*x^4 + 1*x^5 + 1*x^6 + 1*x^8)\n"
     ]
    },
    {
     "data": {
      "text/html": [
       "1 &#43; 1&#8729;x &#43; 1&#8729;x<sup>2</sup> &#43; 1&#8729;x<sup>4</sup> &#43; 1&#8729;x<sup>5</sup> &#43; 1&#8729;x<sup>6</sup> &#43; 1&#8729;x<sup>8</sup>"
      ],
      "text/latex": [
       "$1 + 1\\cdot x + 1\\cdot x^{2} + 1\\cdot x^{4} + 1\\cdot x^{5} + 1\\cdot x^{6} + 1\\cdot x^{8}$"
      ],
      "text/plain": [
       "Polynomial(1 + 1*x + 1*x^2 + 1*x^4 + 1*x^5 + 1*x^6 + 1*x^8)"
      ]
     },
     "metadata": {},
     "output_type": "display_data"
    }
   ],
   "source": [
    "M1 = getminimumpolynomial(α)\n",
    "@show M1\n",
    "M3 = getminimumpolynomial(α^3)\n",
    "@show M3"
   ]
  },
  {
   "cell_type": "code",
   "execution_count": 8,
   "metadata": {},
   "outputs": [
    {
     "data": {
      "text/html": [
       "1 &#43; 1&#8729;x &#43; 1&#8729;x<sup>5</sup> &#43; 1&#8729;x<sup>6</sup> &#43; 1&#8729;x<sup>8</sup> &#43; 1&#8729;x<sup>9</sup> &#43; 1&#8729;x<sup>10</sup> &#43; 1&#8729;x<sup>11</sup> &#43; 1&#8729;x<sup>13</sup> &#43; 1&#8729;x<sup>14</sup> &#43; 1&#8729;x<sup>16</sup>"
      ],
      "text/latex": [
       "$1 + 1\\cdot x + 1\\cdot x^{5} + 1\\cdot x^{6} + 1\\cdot x^{8} + 1\\cdot x^{9} + 1\\cdot x^{10} + 1\\cdot x^{11} + 1\\cdot x^{13} + 1\\cdot x^{14} + 1\\cdot x^{16}$"
      ],
      "text/plain": [
       "Polynomial(1 + 1*x + 1*x^5 + 1*x^6 + 1*x^8 + 1*x^9 + 1*x^10 + 1*x^11 + 1*x^13 + 1*x^14 + 1*x^16)"
      ]
     },
     "metadata": {},
     "output_type": "display_data"
    }
   ],
   "source": [
    "M1*M3"
   ]
  }
 ],
 "metadata": {
  "kernelspec": {
   "display_name": "Julia 1.8.4",
   "language": "julia",
   "name": "julia-1.8"
  },
  "language_info": {
   "file_extension": ".jl",
   "mimetype": "application/julia",
   "name": "julia",
   "version": "1.8.4"
  },
  "orig_nbformat": 4
 },
 "nbformat": 4,
 "nbformat_minor": 2
}
